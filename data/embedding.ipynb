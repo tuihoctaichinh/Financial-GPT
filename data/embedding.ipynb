{
 "cells": [
  {
   "cell_type": "code",
   "execution_count": 1,
   "metadata": {},
   "outputs": [],
   "source": [
    "import os\n",
    "from pathlib import Path\n",
    "from langchain_community.document_loaders import DirectoryLoader\n",
    "from langchain.text_splitter import RecursiveCharacterTextSplitter\n",
    "import openai\n",
    "from langchain_openai import OpenAIEmbeddings\n",
    "from langchain.vectorstores import Chroma"
   ]
  },
  {
   "cell_type": "markdown",
   "metadata": {},
   "source": [
    "## Load documents"
   ]
  },
  {
   "cell_type": "code",
   "execution_count": 2,
   "metadata": {},
   "outputs": [
    {
     "name": "stderr",
     "output_type": "stream",
     "text": [
      "100%|██████████| 1/1 [00:11<00:00, 11.48s/it]\n"
     ]
    }
   ],
   "source": [
    "#choose the documents' directory \n",
    "data_path = Path.cwd() / \"vietcap_reports\"\n",
    "\n",
    "#Load all .pdf files\n",
    "loader = DirectoryLoader('../', glob=\"**/*.pdf\", show_progress=True)\n",
    "docs = loader.load()"
   ]
  },
  {
   "cell_type": "markdown",
   "metadata": {},
   "source": [
    "## Split into chunks"
   ]
  },
  {
   "cell_type": "code",
   "execution_count": 3,
   "metadata": {},
   "outputs": [
    {
     "data": {
      "text/plain": [
       "24"
      ]
     },
     "execution_count": 3,
     "metadata": {},
     "output_type": "execute_result"
    }
   ],
   "source": [
    "# Split\n",
    "text_splitter = RecursiveCharacterTextSplitter(\n",
    "    chunk_size = 1500,  #the smaller the more precise (but lose context) \n",
    "    chunk_overlap = 200 \n",
    ")\n",
    "\n",
    "splits = text_splitter.split_documents(docs)\n",
    "len(splits)"
   ]
  },
  {
   "cell_type": "code",
   "execution_count": 4,
   "metadata": {},
   "outputs": [
    {
     "data": {
      "text/plain": [
       "Document(page_content='BWE to acquire a 20%-100% stake in four water companies in Long An Province and one water company in Quang Binh Province, providing potential upside to our valuation. On February 8, BWE announced a BOD resolution to acquire a 20%-100% stake of DNP Long An Water Infrastructure JSC (Long An Water), which possesses the Nhi Thanh water processing plant (capacity of 60,000 cbm/day) and has secured land bank to double its capacity to 120,000 cbm/day According to BWE, Long An Water has a ~50%-60% market share. The price and timeline for this acquisition have not been specified. On February 10, BWE announced it would acquire 50%-100% stakes in four additional water companies in order to consolidate revenue and profit when these deals are successful. These companies include three in Long An Province (Chau Thanh Urban Construction JSC, Can Giuoc Urban Construction JSC and Bang Tam Water & Environment JSC) and one in Quang Binh Province (DNP Quang Binh Water Infra JSC). Additional details about these acquisitions were not disclosed. The acquisitions are in beyond southeastern Vietnam to the southwestern and central regions. According to BWE, Long An has bright prospects from rapid urbanization and population growth, increasing frequency of drought and saltwater intrusion leading to strong demand for clean water, and a projected 2020-2030F CAGR of 5%. In addition, BWE expects that industrial water demand could double over the next 10 years.', metadata={'source': '..\\\\data\\\\vietcap_reports\\\\vietcap_report.pdf'})"
      ]
     },
     "execution_count": 4,
     "metadata": {},
     "output_type": "execute_result"
    }
   ],
   "source": [
    "splits[1]"
   ]
  },
  {
   "cell_type": "markdown",
   "metadata": {},
   "source": [
    "# Embed data"
   ]
  },
  {
   "cell_type": "code",
   "execution_count": 19,
   "metadata": {},
   "outputs": [],
   "source": [
    "openai.api_key  = os.environ['OPENAI_API_KEY']\n",
    "embedding = OpenAIEmbeddings()\n",
    "\n",
    "#Choose vector database directory\n",
    "persist_directory = 'chroma/vietcap_reports'\n",
    "\n",
    "#Create embedded data\n",
    "vectordb = Chroma.from_documents(\n",
    "    documents=splits,\n",
    "    embedding=embedding,\n",
    "    persist_directory=persist_directory\n",
    ")"
   ]
  },
  {
   "cell_type": "markdown",
   "metadata": {},
   "source": [
    "# Save to database"
   ]
  },
  {
   "cell_type": "code",
   "execution_count": 20,
   "metadata": {},
   "outputs": [],
   "source": [
    "vectordb.persist() \n",
    "\n",
    "#lưu vectordb"
   ]
  }
 ],
 "metadata": {
  "kernelspec": {
   "display_name": "nlp",
   "language": "python",
   "name": "python3"
  },
  "language_info": {
   "codemirror_mode": {
    "name": "ipython",
    "version": 3
   },
   "file_extension": ".py",
   "mimetype": "text/x-python",
   "name": "python",
   "nbconvert_exporter": "python",
   "pygments_lexer": "ipython3",
   "version": "3.11.8"
  }
 },
 "nbformat": 4,
 "nbformat_minor": 2
}
